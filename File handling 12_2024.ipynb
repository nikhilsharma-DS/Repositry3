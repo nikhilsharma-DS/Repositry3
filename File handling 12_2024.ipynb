{
 "cells": [
  {
   "cell_type": "code",
   "execution_count": 1,
   "id": "53f1dfbb-f2eb-49e0-bc98-64afd8e9b3d1",
   "metadata": {},
   "outputs": [],
   "source": [
    "# File handling and exception handling"
   ]
  },
  {
   "cell_type": "markdown",
   "id": "c4a4c6ac-c6b7-4310-9a88-57a240baabae",
   "metadata": {},
   "source": [
    "# File handling :\n",
    "\n",
    "operations same:\n",
    "\n",
    "* Open a file\n",
    "* read or write operation\n",
    "* close a file"
   ]
  },
  {
   "cell_type": "code",
   "execution_count": null,
   "id": "9f7acdce-f6eb-4058-a686-bbcea835e1c4",
   "metadata": {},
   "outputs": [],
   "source": []
  },
  {
   "cell_type": "code",
   "execution_count": 5,
   "id": "f0590e0b-b70a-444d-8182-6bae4c09b462",
   "metadata": {},
   "outputs": [],
   "source": [
    "# opening a file"
   ]
  },
  {
   "cell_type": "code",
   "execution_count": 26,
   "id": "046d473e-0643-44ab-9c33-0649af2469f5",
   "metadata": {},
   "outputs": [],
   "source": [
    "f = open(\"sales12.txt\")"
   ]
  },
  {
   "cell_type": "code",
   "execution_count": 28,
   "id": "95d85783-4831-4e35-b210-5c8b4100b676",
   "metadata": {},
   "outputs": [
    {
     "data": {
      "text/plain": [
       "<_io.TextIOWrapper name='sales12.txt' mode='r' encoding='cp1252'>"
      ]
     },
     "execution_count": 28,
     "metadata": {},
     "output_type": "execute_result"
    }
   ],
   "source": [
    "f"
   ]
  },
  {
   "cell_type": "code",
   "execution_count": 32,
   "id": "15bc5840-ddf7-47c1-968d-ceb4af903f90",
   "metadata": {},
   "outputs": [
    {
     "data": {
      "text/plain": [
       "False"
      ]
     },
     "execution_count": 32,
     "metadata": {},
     "output_type": "execute_result"
    }
   ],
   "source": [
    "f.closed"
   ]
  },
  {
   "cell_type": "code",
   "execution_count": 38,
   "id": "e9bf8440-be06-4313-8970-6b681de25ef6",
   "metadata": {},
   "outputs": [],
   "source": [
    "f.close()"
   ]
  },
  {
   "cell_type": "code",
   "execution_count": 40,
   "id": "a878d845-78a7-4a59-98df-17e339851603",
   "metadata": {},
   "outputs": [
    {
     "data": {
      "text/plain": [
       "True"
      ]
     },
     "execution_count": 40,
     "metadata": {},
     "output_type": "execute_result"
    }
   ],
   "source": [
    "f.closed"
   ]
  },
  {
   "cell_type": "markdown",
   "id": "c7a4dd5d-ff26-46ec-ac18-48b4311431e0",
   "metadata": {},
   "source": [
    "# modes of file :\n",
    "* r - read\n",
    "* w - writing\n",
    "* a - append"
   ]
  },
  {
   "cell_type": "code",
   "execution_count": null,
   "id": "6a6f0a90-6d6d-40ac-9aef-0e887a8ce393",
   "metadata": {},
   "outputs": [],
   "source": []
  },
  {
   "cell_type": "code",
   "execution_count": 46,
   "id": "eac3dbe3-5d08-4800-b8c2-fdd5e7a4d01f",
   "metadata": {},
   "outputs": [],
   "source": [
    "f = open(\"accounts12\" , mode= \"w\")"
   ]
  },
  {
   "cell_type": "code",
   "execution_count": 48,
   "id": "8a9e716d-6bd5-498b-8f03-de9ac13b6bb3",
   "metadata": {},
   "outputs": [
    {
     "data": {
      "text/plain": [
       "<_io.TextIOWrapper name='accounts12' mode='w' encoding='cp1252'>"
      ]
     },
     "execution_count": 48,
     "metadata": {},
     "output_type": "execute_result"
    }
   ],
   "source": [
    "f"
   ]
  },
  {
   "cell_type": "code",
   "execution_count": 50,
   "id": "b839bdd5-df47-4601-951f-53ec8510bc1a",
   "metadata": {},
   "outputs": [
    {
     "data": {
      "text/plain": [
       "False"
      ]
     },
     "execution_count": 50,
     "metadata": {},
     "output_type": "execute_result"
    }
   ],
   "source": [
    "f.closed"
   ]
  },
  {
   "cell_type": "code",
   "execution_count": 52,
   "id": "49f264b6-2249-44bd-89a1-9b26c6e9e1f9",
   "metadata": {},
   "outputs": [],
   "source": [
    "f.close()"
   ]
  },
  {
   "cell_type": "code",
   "execution_count": 54,
   "id": "c9c3cbb2-ad04-4ffa-b4b1-89e867bfeaf5",
   "metadata": {},
   "outputs": [
    {
     "data": {
      "text/plain": [
       "True"
      ]
     },
     "execution_count": 54,
     "metadata": {},
     "output_type": "execute_result"
    }
   ],
   "source": [
    "f.closed"
   ]
  },
  {
   "cell_type": "code",
   "execution_count": 56,
   "id": "25f54a24-c289-4bb7-980e-1108650295b1",
   "metadata": {},
   "outputs": [],
   "source": [
    "f = open(\"accounts12\")"
   ]
  },
  {
   "cell_type": "code",
   "execution_count": 58,
   "id": "8281b09b-51da-42ab-a714-bb2bcb5d5251",
   "metadata": {},
   "outputs": [
    {
     "data": {
      "text/plain": [
       "<_io.TextIOWrapper name='accounts12' mode='r' encoding='cp1252'>"
      ]
     },
     "execution_count": 58,
     "metadata": {},
     "output_type": "execute_result"
    }
   ],
   "source": [
    "f"
   ]
  },
  {
   "cell_type": "code",
   "execution_count": 60,
   "id": "0c894655-1a1c-4a91-9c1d-604e0df38fa6",
   "metadata": {},
   "outputs": [],
   "source": [
    "# context manager : it generally deallocate the resources\n",
    "# freeup"
   ]
  },
  {
   "cell_type": "code",
   "execution_count": null,
   "id": "05822a34-9122-4b9d-8971-2e67748b55b8",
   "metadata": {},
   "outputs": [],
   "source": []
  },
  {
   "cell_type": "code",
   "execution_count": 63,
   "id": "35fc2399-156c-478c-ab35-880a99a668a8",
   "metadata": {},
   "outputs": [
    {
     "name": "stdout",
     "output_type": "stream",
     "text": [
      "Inside False\n",
      "Outside True\n"
     ]
    }
   ],
   "source": [
    "with open(\"sales12.txt\") as f:\n",
    "    print(\"Inside\",f.closed)\n",
    "print(\"Outside\" , f.closed)"
   ]
  },
  {
   "cell_type": "code",
   "execution_count": null,
   "id": "3d6cb500-3f27-4097-b288-e3d6393731be",
   "metadata": {},
   "outputs": [],
   "source": []
  },
  {
   "cell_type": "code",
   "execution_count": 66,
   "id": "d8b9a717-f8ea-49b3-a2ab-04ac943d4172",
   "metadata": {},
   "outputs": [],
   "source": [
    "# Writing to a file\n",
    "# write : it generally returns the number of words/characters"
   ]
  },
  {
   "cell_type": "code",
   "execution_count": 70,
   "id": "e01f27ee-0211-46f8-9b74-187e00a30e80",
   "metadata": {},
   "outputs": [
    {
     "name": "stdout",
     "output_type": "stream",
     "text": [
      "41 27\n"
     ]
    }
   ],
   "source": [
    "with open(\"profile12.txt\", mode = \"w\") as f:\n",
    "    r1 = f.write(\"this file has been generated by python .\\n\")\n",
    "    r2 = f.write(\"I am learning file handling\")\n",
    "    print(r1 , r2)"
   ]
  },
  {
   "cell_type": "code",
   "execution_count": 72,
   "id": "fa5328c6-88e7-4ea2-9c18-f0f73eb3eddc",
   "metadata": {},
   "outputs": [
    {
     "name": "stdout",
     "output_type": "stream",
     "text": [
      "this file has been generated by python .\n",
      "I am learning file handling\n"
     ]
    }
   ],
   "source": [
    "with open(\"profile12.txt\") as f:\n",
    "    data = f.read()\n",
    "    print(data)"
   ]
  },
  {
   "cell_type": "code",
   "execution_count": 83,
   "id": "6a430f81-3eb5-438a-b8f4-958504f34c99",
   "metadata": {},
   "outputs": [
    {
     "name": "stdout",
     "output_type": "stream",
     "text": [
      "41 13\n"
     ]
    }
   ],
   "source": [
    "with open(\"profile12.txt\" , mode = \"a\") as f:\n",
    "    h = f.write(\"\\n we are appending some text thank you. \\n\")\n",
    "    k = f.write(\"i love python\")\n",
    "    print(h,k)"
   ]
  },
  {
   "cell_type": "code",
   "execution_count": 89,
   "id": "81dd1fc7-bcdd-4801-94e8-e048def34011",
   "metadata": {},
   "outputs": [
    {
     "name": "stdout",
     "output_type": "stream",
     "text": [
      "this file has been generated by python .\n",
      "I am learning file handling\n",
      " we are appending some text thank you. \n",
      "i love python\n"
     ]
    }
   ],
   "source": [
    "with open(\"profile12.txt\") as f:\n",
    "    print(f.read())\n",
    "    "
   ]
  },
  {
   "cell_type": "code",
   "execution_count": null,
   "id": "87867be6-ee8a-45e1-95c0-e2271671a197",
   "metadata": {},
   "outputs": [],
   "source": []
  },
  {
   "cell_type": "code",
   "execution_count": 112,
   "id": "3e5799ba-1d46-4c81-b503-48ae3adbebb7",
   "metadata": {},
   "outputs": [
    {
     "name": "stdout",
     "output_type": "stream",
     "text": [
      "this file has been generated by python .\n",
      "I am learning file handling\n"
     ]
    }
   ],
   "source": [
    "with open(\"iris27.csv\") as v:\n",
    "    print(v.read())"
   ]
  },
  {
   "cell_type": "code",
   "execution_count": null,
   "id": "af5d8d9e-b00b-49a4-b45c-33d8f9891e4e",
   "metadata": {},
   "outputs": [],
   "source": []
  },
  {
   "cell_type": "code",
   "execution_count": null,
   "id": "b1c04f5b-3398-4443-9045-810a86bea4ee",
   "metadata": {},
   "outputs": [],
   "source": []
  },
  {
   "cell_type": "code",
   "execution_count": 1,
   "id": "f5b64ebe-5eff-4889-8a4e-2b1b8ca0a209",
   "metadata": {},
   "outputs": [],
   "source": [
    "# reading content line by line"
   ]
  },
  {
   "cell_type": "code",
   "execution_count": 5,
   "id": "011d8372-6a84-4ea9-9f90-3d97d36ad8dc",
   "metadata": {},
   "outputs": [
    {
     "name": "stdout",
     "output_type": "stream",
     "text": [
      "this \n",
      "file has b\n",
      "een genera\n",
      "ted by pytho\n"
     ]
    }
   ],
   "source": [
    "with open(\"profile12.txt\") as f:\n",
    "    print(f.read(5))\n",
    "    print(f.read(10))\n",
    "    print(f.read(10))\n",
    "    print(f.read(12))"
   ]
  },
  {
   "cell_type": "code",
   "execution_count": 7,
   "id": "fdd30730-26df-4d92-a3c9-80c4d9ce5ca9",
   "metadata": {},
   "outputs": [],
   "source": [
    "# tell and seek"
   ]
  },
  {
   "cell_type": "code",
   "execution_count": 12,
   "id": "0557c52b-fc0e-4b15-8685-457901096e41",
   "metadata": {},
   "outputs": [
    {
     "name": "stdout",
     "output_type": "stream",
     "text": [
      "this \n",
      "file has b\n",
      "een genera\n",
      "ted by pytho\n",
      "37\n",
      "n .\n",
      "I\n",
      "43\n",
      "10\n",
      "has been genera\n",
      "25\n"
     ]
    }
   ],
   "source": [
    "with open(\"profile12.txt\") as f:\n",
    "    print(f.read(5))\n",
    "\n",
    "    print(f.read(10))\n",
    "\n",
    "    print(f.read(10))\n",
    "\n",
    "    print(f.read(12))\n",
    "\n",
    "    print(f.tell())\n",
    "\n",
    "    print(f.read(5))\n",
    "    print(f.tell())\n",
    "\n",
    "    f.seek(10)\n",
    "\n",
    "    print(f.tell())\n",
    "\n",
    "    print(f.read(15))\n",
    "\n",
    "    print(f.tell())"
   ]
  },
  {
   "cell_type": "code",
   "execution_count": 14,
   "id": "1f457fce-d6a7-4d1d-90ef-9a8e265b507d",
   "metadata": {},
   "outputs": [
    {
     "name": "stdout",
     "output_type": "stream",
     "text": [
      "this file has been generated by python .\n",
      "I am learning file handling\n",
      " we are appending some text thank you. \n",
      "i love python\n"
     ]
    }
   ],
   "source": [
    "with open(\"profile12.txt\") as f:\n",
    "    data = f.read()\n",
    "    print(data)"
   ]
  },
  {
   "cell_type": "code",
   "execution_count": 16,
   "id": "1b2538d0-c955-4bd5-bd8f-698f2c9cba25",
   "metadata": {},
   "outputs": [
    {
     "name": "stdout",
     "output_type": "stream",
     "text": [
      "this file has been generated by python .\n",
      "\n",
      "I am learning file handling\n",
      "\n",
      " we are appending some text thank you. \n",
      "\n",
      "i love python\n"
     ]
    }
   ],
   "source": [
    "with open(\"profile12.txt\") as f:\n",
    "    for i in f:\n",
    "        print(i)"
   ]
  },
  {
   "cell_type": "code",
   "execution_count": 18,
   "id": "cc29660c-a69f-49de-b9bd-73c123d295b9",
   "metadata": {},
   "outputs": [
    {
     "name": "stdout",
     "output_type": "stream",
     "text": [
      "t\n",
      "h\n",
      "i\n",
      "s\n",
      " \n",
      "f\n",
      "i\n",
      "l\n",
      "e\n",
      " \n",
      "h\n",
      "a\n",
      "s\n",
      " \n",
      "b\n",
      "e\n",
      "e\n",
      "n\n",
      " \n",
      "g\n",
      "e\n",
      "n\n",
      "e\n",
      "r\n",
      "a\n",
      "t\n",
      "e\n",
      "d\n",
      " \n",
      "b\n",
      "y\n",
      " \n",
      "p\n",
      "y\n",
      "t\n",
      "h\n",
      "o\n",
      "n\n",
      " \n",
      ".\n",
      "\n",
      "\n",
      "I\n",
      " \n",
      "a\n",
      "m\n",
      " \n",
      "l\n",
      "e\n",
      "a\n",
      "r\n",
      "n\n",
      "i\n",
      "n\n",
      "g\n",
      " \n",
      "f\n",
      "i\n",
      "l\n",
      "e\n",
      " \n",
      "h\n",
      "a\n",
      "n\n",
      "d\n",
      "l\n",
      "i\n",
      "n\n",
      "g\n",
      "\n",
      "\n",
      " \n",
      "w\n",
      "e\n",
      " \n",
      "a\n",
      "r\n",
      "e\n",
      " \n",
      "a\n",
      "p\n",
      "p\n",
      "e\n",
      "n\n",
      "d\n",
      "i\n",
      "n\n",
      "g\n",
      " \n",
      "s\n",
      "o\n",
      "m\n",
      "e\n",
      " \n",
      "t\n",
      "e\n",
      "x\n",
      "t\n",
      " \n",
      "t\n",
      "h\n",
      "a\n",
      "n\n",
      "k\n",
      " \n",
      "y\n",
      "o\n",
      "u\n",
      ".\n",
      " \n",
      "\n",
      "\n",
      "i\n",
      " \n",
      "l\n",
      "o\n",
      "v\n",
      "e\n",
      " \n",
      "p\n",
      "y\n",
      "t\n",
      "h\n",
      "o\n",
      "n\n"
     ]
    }
   ],
   "source": [
    "for i in data:\n",
    "    print(i)"
   ]
  },
  {
   "cell_type": "code",
   "execution_count": 20,
   "id": "c834ca6a-3423-4fd2-a0fc-ce34da290da7",
   "metadata": {},
   "outputs": [
    {
     "name": "stdout",
     "output_type": "stream",
     "text": [
      "['this file has been generated by python .\\n', 'I am learning file handling\\n', ' we are appending some text thank you. \\n', 'i love python']\n"
     ]
    }
   ],
   "source": [
    "with open(\"profile12.txt\") as f:\n",
    "    lines = f.readlines()\n",
    "    print(lines)"
   ]
  },
  {
   "cell_type": "code",
   "execution_count": 22,
   "id": "5a021498-3a82-415f-af9a-348b65a61266",
   "metadata": {},
   "outputs": [
    {
     "data": {
      "text/plain": [
       "['this file has been generated by python .\\n',\n",
       " 'I am learning file handling\\n',\n",
       " ' we are appending some text thank you. \\n',\n",
       " 'i love python']"
      ]
     },
     "execution_count": 22,
     "metadata": {},
     "output_type": "execute_result"
    }
   ],
   "source": [
    "lines"
   ]
  },
  {
   "cell_type": "code",
   "execution_count": 24,
   "id": "bfd886b5-e92e-4316-afb5-96fc646bc701",
   "metadata": {},
   "outputs": [
    {
     "name": "stdout",
     "output_type": "stream",
     "text": [
      "this file has been generated by python .\n",
      "\n",
      "I am learning file handling\n",
      "\n",
      " we are appending some text thank you. \n",
      "\n",
      "i love python\n"
     ]
    }
   ],
   "source": [
    "for i in lines:\n",
    "    print(i)"
   ]
  },
  {
   "cell_type": "code",
   "execution_count": null,
   "id": "c46518d7-f53e-43d3-b388-36da493ae914",
   "metadata": {},
   "outputs": [],
   "source": []
  },
  {
   "cell_type": "code",
   "execution_count": 26,
   "id": "ed846e72-a5b0-46f9-a037-c4497fda8475",
   "metadata": {},
   "outputs": [],
   "source": [
    "# changing the content"
   ]
  },
  {
   "cell_type": "code",
   "execution_count": 30,
   "id": "06404540-e70b-46ab-8db7-9719dbec8308",
   "metadata": {},
   "outputs": [],
   "source": [
    "with open(\"profile12.txt\" , mode = \"r\") as f:\n",
    "    lines = f.readlines()"
   ]
  },
  {
   "cell_type": "code",
   "execution_count": 36,
   "id": "a6e5dd0b-b1f7-49d5-b245-d91616fc55a8",
   "metadata": {},
   "outputs": [],
   "source": [
    "lines[1] = \"nikhil we are discussing some concept\""
   ]
  },
  {
   "cell_type": "code",
   "execution_count": 38,
   "id": "c93ec6e8-1df3-4716-8706-4f5e136b7bd9",
   "metadata": {},
   "outputs": [
    {
     "data": {
      "text/plain": [
       "['this file has been generated by python .\\n',\n",
       " 'nikhil we are discussing some concept',\n",
       " ' we are appending some text thank you. \\n',\n",
       " 'i love python']"
      ]
     },
     "execution_count": 38,
     "metadata": {},
     "output_type": "execute_result"
    }
   ],
   "source": [
    "lines"
   ]
  },
  {
   "cell_type": "code",
   "execution_count": 40,
   "id": "2975be0f-f3fa-4549-81a7-1b1dc69cb77e",
   "metadata": {},
   "outputs": [],
   "source": [
    "data_to_write = \"\".join(lines)"
   ]
  },
  {
   "cell_type": "code",
   "execution_count": 42,
   "id": "e3af330c-9f51-40d1-a08b-02d4c18fcd33",
   "metadata": {},
   "outputs": [
    {
     "name": "stdout",
     "output_type": "stream",
     "text": [
      "131\n"
     ]
    }
   ],
   "source": [
    "with open(\"profile12.txt\" , mode = \"w\") as f:\n",
    "    d = f.write(data_to_write)\n",
    "    print(d)"
   ]
  },
  {
   "cell_type": "code",
   "execution_count": 44,
   "id": "c8c4b2cc-f179-4561-947d-265f5957ec6d",
   "metadata": {},
   "outputs": [
    {
     "name": "stdout",
     "output_type": "stream",
     "text": [
      "this file has been generated by python .\n",
      "nikhil we are discussing some concept we are appending some text thank you. \n",
      "i love python\n"
     ]
    }
   ],
   "source": [
    "with open(\"profile12.txt\") as f:\n",
    "    data = f.read()\n",
    "    print(data)"
   ]
  },
  {
   "cell_type": "code",
   "execution_count": null,
   "id": "ed909d02-cf25-4a3a-9239-e41bccc8a5c2",
   "metadata": {},
   "outputs": [],
   "source": []
  }
 ],
 "metadata": {
  "kernelspec": {
   "display_name": "Python [conda env:base] *",
   "language": "python",
   "name": "conda-base-py"
  },
  "language_info": {
   "codemirror_mode": {
    "name": "ipython",
    "version": 3
   },
   "file_extension": ".py",
   "mimetype": "text/x-python",
   "name": "python",
   "nbconvert_exporter": "python",
   "pygments_lexer": "ipython3",
   "version": "3.12.7"
  }
 },
 "nbformat": 4,
 "nbformat_minor": 5
}
