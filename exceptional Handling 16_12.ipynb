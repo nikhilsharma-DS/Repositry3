{
 "cells": [
  {
   "cell_type": "markdown",
   "id": "dced5784-07b3-472f-8ab0-5f809faaa18d",
   "metadata": {},
   "source": [
    "# Exception handling :\n",
    "* Error\n",
    "* expectations"
   ]
  },
  {
   "cell_type": "code",
   "execution_count": 2,
   "id": "be1361de-95f8-4c6b-b619-ee21330db068",
   "metadata": {},
   "outputs": [],
   "source": [
    "p= 10"
   ]
  },
  {
   "cell_type": "code",
   "execution_count": 4,
   "id": "884ccfd6-06b5-4fe2-ad12-8bfe2f2511ce",
   "metadata": {},
   "outputs": [
    {
     "ename": "NameError",
     "evalue": "name 'h' is not defined",
     "output_type": "error",
     "traceback": [
      "\u001b[1;31m---------------------------------------------------------------------------\u001b[0m",
      "\u001b[1;31mNameError\u001b[0m                                 Traceback (most recent call last)",
      "Cell \u001b[1;32mIn[4], line 1\u001b[0m\n\u001b[1;32m----> 1\u001b[0m \u001b[38;5;28mprint\u001b[39m(h)\n",
      "\u001b[1;31mNameError\u001b[0m: name 'h' is not defined"
     ]
    }
   ],
   "source": [
    "print(h)"
   ]
  },
  {
   "cell_type": "code",
   "execution_count": 14,
   "id": "6d678756-1881-485d-9343-53fba72311e7",
   "metadata": {},
   "outputs": [
    {
     "ename": "SyntaxError",
     "evalue": "incomplete input (3903810878.py, line 2)",
     "output_type": "error",
     "traceback": [
      "\u001b[1;36m  Cell \u001b[1;32mIn[14], line 2\u001b[1;36m\u001b[0m\n\u001b[1;33m    \u001b[0m\n\u001b[1;37m    ^\u001b[0m\n\u001b[1;31mSyntaxError\u001b[0m\u001b[1;31m:\u001b[0m incomplete input\n"
     ]
    }
   ],
   "source": [
    "if 4>5:\n",
    "    "
   ]
  },
  {
   "cell_type": "code",
   "execution_count": 6,
   "id": "ee9368e7-cb30-4416-ae77-ed308cfdef22",
   "metadata": {},
   "outputs": [
    {
     "ename": "AttributeError",
     "evalue": "'str' object has no attribute 'sort'",
     "output_type": "error",
     "traceback": [
      "\u001b[1;31m---------------------------------------------------------------------------\u001b[0m",
      "\u001b[1;31mAttributeError\u001b[0m                            Traceback (most recent call last)",
      "Cell \u001b[1;32mIn[6], line 1\u001b[0m\n\u001b[1;32m----> 1\u001b[0m \u001b[38;5;124m\"\u001b[39m\u001b[38;5;124mpython is fun\u001b[39m\u001b[38;5;124m\"\u001b[39m\u001b[38;5;241m.\u001b[39msort()\n",
      "\u001b[1;31mAttributeError\u001b[0m: 'str' object has no attribute 'sort'"
     ]
    }
   ],
   "source": [
    "\"python is fun\".sort()"
   ]
  },
  {
   "cell_type": "code",
   "execution_count": 16,
   "id": "a17854b2-fd99-4996-bc59-2a7fd9c31595",
   "metadata": {},
   "outputs": [
    {
     "ename": "ModuleNotFoundError",
     "evalue": "No module named 'computer'",
     "output_type": "error",
     "traceback": [
      "\u001b[1;31m---------------------------------------------------------------------------\u001b[0m",
      "\u001b[1;31mModuleNotFoundError\u001b[0m                       Traceback (most recent call last)",
      "Cell \u001b[1;32mIn[16], line 1\u001b[0m\n\u001b[1;32m----> 1\u001b[0m \u001b[38;5;28;01mimport\u001b[39;00m \u001b[38;5;21;01mcomputer\u001b[39;00m\n",
      "\u001b[1;31mModuleNotFoundError\u001b[0m: No module named 'computer'"
     ]
    }
   ],
   "source": [
    "import computer"
   ]
  },
  {
   "cell_type": "code",
   "execution_count": 8,
   "id": "2a78f2f1-4ddd-41ee-b733-b28e3dfa7653",
   "metadata": {},
   "outputs": [
    {
     "name": "stdout",
     "output_type": "stream",
     "text": [
      "['ArithmeticError', 'AssertionError', 'AttributeError', 'BaseException', 'BaseExceptionGroup', 'BlockingIOError', 'BrokenPipeError', 'BufferError', 'BytesWarning', 'ChildProcessError', 'ConnectionAbortedError', 'ConnectionError', 'ConnectionRefusedError', 'ConnectionResetError', 'DeprecationWarning', 'EOFError', 'Ellipsis', 'EncodingWarning', 'EnvironmentError', 'Exception', 'ExceptionGroup', 'False', 'FileExistsError', 'FileNotFoundError', 'FloatingPointError', 'FutureWarning', 'GeneratorExit', 'IOError', 'ImportError', 'ImportWarning', 'IndentationError', 'IndexError', 'InterruptedError', 'IsADirectoryError', 'KeyError', 'KeyboardInterrupt', 'LookupError', 'MemoryError', 'ModuleNotFoundError', 'NameError', 'None', 'NotADirectoryError', 'NotImplemented', 'NotImplementedError', 'OSError', 'OverflowError', 'PendingDeprecationWarning', 'PermissionError', 'ProcessLookupError', 'RecursionError', 'ReferenceError', 'ResourceWarning', 'RuntimeError', 'RuntimeWarning', 'StopAsyncIteration', 'StopIteration', 'SyntaxError', 'SyntaxWarning', 'SystemError', 'SystemExit', 'TabError', 'TimeoutError', 'True', 'TypeError', 'UnboundLocalError', 'UnicodeDecodeError', 'UnicodeEncodeError', 'UnicodeError', 'UnicodeTranslateError', 'UnicodeWarning', 'UserWarning', 'ValueError', 'Warning', 'WindowsError', 'ZeroDivisionError', '__IPYTHON__', '__build_class__', '__debug__', '__doc__', '__import__', '__loader__', '__name__', '__package__', '__spec__', 'abs', 'aiter', 'all', 'anext', 'any', 'ascii', 'bin', 'bool', 'breakpoint', 'bytearray', 'bytes', 'callable', 'chr', 'classmethod', 'compile', 'complex', 'copyright', 'credits', 'delattr', 'dict', 'dir', 'display', 'divmod', 'enumerate', 'eval', 'exec', 'execfile', 'filter', 'float', 'format', 'frozenset', 'get_ipython', 'getattr', 'globals', 'hasattr', 'hash', 'help', 'hex', 'id', 'input', 'int', 'isinstance', 'issubclass', 'iter', 'len', 'license', 'list', 'locals', 'map', 'max', 'memoryview', 'min', 'next', 'object', 'oct', 'open', 'ord', 'pow', 'print', 'property', 'range', 'repr', 'reversed', 'round', 'runfile', 'set', 'setattr', 'slice', 'sorted', 'staticmethod', 'str', 'sum', 'super', 'tuple', 'type', 'vars', 'zip']\n"
     ]
    }
   ],
   "source": [
    "print(dir(__builtins__))"
   ]
  },
  {
   "cell_type": "code",
   "execution_count": 18,
   "id": "0119504f-8d2f-486d-9529-f62c476bd86c",
   "metadata": {},
   "outputs": [
    {
     "ename": "ZeroDivisionError",
     "evalue": "division by zero",
     "output_type": "error",
     "traceback": [
      "\u001b[1;31m---------------------------------------------------------------------------\u001b[0m",
      "\u001b[1;31mZeroDivisionError\u001b[0m                         Traceback (most recent call last)",
      "Cell \u001b[1;32mIn[18], line 1\u001b[0m\n\u001b[1;32m----> 1\u001b[0m \u001b[38;5;241m5\u001b[39m\u001b[38;5;241m/\u001b[39m\u001b[38;5;241m0\u001b[39m\n\u001b[0;32m      4\u001b[0m \u001b[38;5;28mprint\u001b[39m(\u001b[38;5;124m\"\u001b[39m\u001b[38;5;124m100 lines of code\u001b[39m\u001b[38;5;124m\"\u001b[39m)\n",
      "\u001b[1;31mZeroDivisionError\u001b[0m: division by zero"
     ]
    }
   ],
   "source": [
    "5/0\n",
    "\n",
    "\n",
    "print(\"100 lines of code\")"
   ]
  },
  {
   "cell_type": "code",
   "execution_count": 20,
   "id": "0cd9e67c-ad6c-4260-9e6c-eae4b4fa727d",
   "metadata": {},
   "outputs": [
    {
     "ename": "SyntaxError",
     "evalue": "expected ':' (760886998.py, line 1)",
     "output_type": "error",
     "traceback": [
      "\u001b[1;36m  Cell \u001b[1;32mIn[20], line 1\u001b[1;36m\u001b[0m\n\u001b[1;33m    try\u001b[0m\n\u001b[1;37m       ^\u001b[0m\n\u001b[1;31mSyntaxError\u001b[0m\u001b[1;31m:\u001b[0m expected ':'\n"
     ]
    }
   ],
   "source": [
    "try\n",
    "except\n",
    "finally\n",
    "else\n",
    "raise"
   ]
  },
  {
   "cell_type": "code",
   "execution_count": 10,
   "id": "5dca3499-c44a-429d-8045-da3ee26b4d87",
   "metadata": {},
   "outputs": [],
   "source": [
    "import sys"
   ]
  },
  {
   "cell_type": "code",
   "execution_count": 31,
   "id": "53353d26-8208-403e-9461-d9a2333754ce",
   "metadata": {},
   "outputs": [],
   "source": [
    "lst = [2 ,5, 0 ,\"hello\" , None , 6 ,4 , 2]"
   ]
  },
  {
   "cell_type": "code",
   "execution_count": 33,
   "id": "add32db2-b603-4822-9aa1-b9f8d3f2333c",
   "metadata": {},
   "outputs": [
    {
     "name": "stdout",
     "output_type": "stream",
     "text": [
      "Current element:  2\n",
      "Result:  2.5\n",
      "**************************************************\n",
      "Current element:  5\n",
      "Result:  1.0\n",
      "**************************************************\n",
      "Current element:  0\n",
      "Error happened: division by zero\n",
      "<class 'ZeroDivisionError'>\n",
      "**************************************************\n",
      "Current element:  hello\n",
      "Error happened: unsupported operand type(s) for /: 'int' and 'str'\n",
      "<class 'TypeError'>\n",
      "**************************************************\n",
      "Current element:  None\n",
      "Error happened: unsupported operand type(s) for /: 'int' and 'NoneType'\n",
      "<class 'TypeError'>\n",
      "**************************************************\n",
      "Current element:  6\n",
      "Result:  0.8333333333333334\n",
      "**************************************************\n",
      "Current element:  4\n",
      "Result:  1.25\n",
      "**************************************************\n",
      "Current element:  2\n",
      "Result:  2.5\n",
      "**************************************************\n",
      "100 lines of code\n",
      "1500 lines of code\n"
     ]
    }
   ],
   "source": [
    "for i in lst:\n",
    "   try:\n",
    "    print(\"Current element: \", i)\n",
    "    res = 5/i\n",
    "    print(\"Result: \" , res)\n",
    "   except Exception as e:\n",
    "    print(\"Error happened:\",e)\n",
    "    print(sys.exc_info()[0])\n",
    "   print(\"*\"*50)\n",
    "\n",
    "\n",
    "print(\"100 lines of code\")\n",
    "print(\"1500 lines of code\")"
   ]
  },
  {
   "cell_type": "code",
   "execution_count": null,
   "id": "5fbb41cf-006f-4fec-bb0a-4be7d5086c5f",
   "metadata": {},
   "outputs": [],
   "source": []
  },
  {
   "cell_type": "code",
   "execution_count": 22,
   "id": "75f52c76-1f04-4676-b2cf-8d0d9c01db96",
   "metadata": {},
   "outputs": [],
   "source": [
    "# catching specific errors"
   ]
  },
  {
   "cell_type": "code",
   "execution_count": 43,
   "id": "6a0ea54b-e24f-408e-880a-9622fe6c5966",
   "metadata": {},
   "outputs": [
    {
     "name": "stdout",
     "output_type": "stream",
     "text": [
      "Current element:  2\n",
      "Result:  2.5\n",
      "Current element:  5\n",
      "Result:  1.0\n",
      "Current element:  0\n",
      "You can not divide the element by zero not allowed\n",
      "Current element:  hello\n",
      "Its a type error\n",
      "Current element:  None\n",
      "Its a type error\n",
      "Current element:  6\n",
      "Result:  0.8333333333333334\n",
      "Current element:  4\n",
      "Result:  1.25\n",
      "Current element:  2\n",
      "Result:  2.5\n",
      "100 lines of code\n",
      "1500 lines of code\n"
     ]
    }
   ],
   "source": [
    "for i in lst:\n",
    "    try:\n",
    "       print(\"Current element: \", i)\n",
    "       res = 5/i\n",
    "       print(\"Result: \" , res)\n",
    "    except ZeroDivisionError as ze:\n",
    "       print(\"You can not divide the element by zero not allowed\")\n",
    "    except TypeError as te:\n",
    "       print(\"Its a type error\")\n",
    "    except Exception as e:\n",
    "       print(\"Error happened:\",e)\n",
    "       print(sys.exc_info()[0])\n",
    "       print(\"=\"*50)\n",
    "\n",
    "\n",
    "print(\"100 lines of code\")\n",
    "print(\"1500 lines of code\")"
   ]
  },
  {
   "cell_type": "code",
   "execution_count": null,
   "id": "c625b255-8e8c-40b9-9165-6fc5cea3d210",
   "metadata": {},
   "outputs": [],
   "source": [
    "  "
   ]
  },
  {
   "cell_type": "code",
   "execution_count": 2,
   "id": "11f41a0d-874a-4c40-a700-22e8cd30b9b5",
   "metadata": {},
   "outputs": [],
   "source": [
    "# finally : databse close, api close, file.close "
   ]
  },
  {
   "cell_type": "code",
   "execution_count": 4,
   "id": "5a2a821c-1475-4c06-a91b-e8b2da52a51e",
   "metadata": {},
   "outputs": [],
   "source": [
    "lst = [2, 5, 0, \"hello\", None, 6, 4, 2]"
   ]
  },
  {
   "cell_type": "code",
   "execution_count": 6,
   "id": "aa25e6ad-a111-43ec-af4a-1b76a39f249a",
   "metadata": {},
   "outputs": [
    {
     "name": "stdout",
     "output_type": "stream",
     "text": [
      "Current element : 2\n",
      "Result:  2.5\n",
      "All done all files are closed\n",
      "==================================================\n",
      "Current element : 5\n",
      "Result:  1.0\n",
      "All done all files are closed\n",
      "==================================================\n",
      "Current element : 0\n",
      "You can not divide the element by zero not allowed\n",
      "All done all files are closed\n",
      "==================================================\n",
      "Current element : hello\n",
      "Its a type error\n",
      "All done all files are closed\n",
      "==================================================\n",
      "Current element : None\n",
      "Its a type error\n",
      "All done all files are closed\n",
      "==================================================\n",
      "Current element : 6\n",
      "Result:  0.8333333333333334\n",
      "All done all files are closed\n",
      "==================================================\n",
      "Current element : 4\n",
      "Result:  1.25\n",
      "All done all files are closed\n",
      "==================================================\n",
      "Current element : 2\n",
      "Result:  2.5\n",
      "All done all files are closed\n",
      "==================================================\n",
      "100 lines of code\n",
      "1500 lines of code\n"
     ]
    }
   ],
   "source": [
    "for i in lst:\n",
    "    try:\n",
    "        print(\"Current element :\", i)\n",
    "        res = 5/i\n",
    "        print(\"Result: \", res)\n",
    "    except ZeroDivisionError as ze:\n",
    "        print(\"You can not divide the element by zero not allowed\")\n",
    "    except TypeError as te:\n",
    "        print(\"Its a type error\")\n",
    "    except Exception as e:\n",
    "        print(\"Error happend:\", e)\n",
    "        print(sys.exc_info()[0])\n",
    "    finally:\n",
    "        print(\"All done all files are closed\")\n",
    "    print(\"=\"*50)\n",
    "    \n",
    "        \n",
    "\n",
    "print(\"100 lines of code\")\n",
    "print(\"1500 lines of code\")"
   ]
  },
  {
   "cell_type": "code",
   "execution_count": null,
   "id": "a6ced43b-41b6-421e-ad11-c8d0e526dbd0",
   "metadata": {},
   "outputs": [],
   "source": []
  },
  {
   "cell_type": "code",
   "execution_count": 8,
   "id": "d2088282-fcb9-49e4-8fdf-a2c52bfaa28c",
   "metadata": {},
   "outputs": [
    {
     "ename": "Exception",
     "evalue": "hello",
     "output_type": "error",
     "traceback": [
      "\u001b[1;31m---------------------------------------------------------------------------\u001b[0m",
      "\u001b[1;31mException\u001b[0m                                 Traceback (most recent call last)",
      "Cell \u001b[1;32mIn[8], line 1\u001b[0m\n\u001b[1;32m----> 1\u001b[0m \u001b[38;5;28;01mraise\u001b[39;00m \u001b[38;5;167;01mException\u001b[39;00m(\u001b[38;5;124m\"\u001b[39m\u001b[38;5;124mhello\u001b[39m\u001b[38;5;124m\"\u001b[39m)\n",
      "\u001b[1;31mException\u001b[0m: hello"
     ]
    }
   ],
   "source": [
    "raise Exception(\"hello\")"
   ]
  },
  {
   "cell_type": "code",
   "execution_count": 10,
   "id": "c28a324b-3f02-4083-921e-ae62350a579c",
   "metadata": {},
   "outputs": [
    {
     "ename": "Exception",
     "evalue": "python",
     "output_type": "error",
     "traceback": [
      "\u001b[1;31m---------------------------------------------------------------------------\u001b[0m",
      "\u001b[1;31mException\u001b[0m                                 Traceback (most recent call last)",
      "Cell \u001b[1;32mIn[10], line 1\u001b[0m\n\u001b[1;32m----> 1\u001b[0m \u001b[38;5;28;01mraise\u001b[39;00m \u001b[38;5;167;01mException\u001b[39;00m(\u001b[38;5;124m\"\u001b[39m\u001b[38;5;124mpython\u001b[39m\u001b[38;5;124m\"\u001b[39m)\n",
      "\u001b[1;31mException\u001b[0m: python"
     ]
    }
   ],
   "source": [
    "raise Exception(\"python\")"
   ]
  },
  {
   "cell_type": "code",
   "execution_count": null,
   "id": "d52bdf05-f187-49ab-8615-2968f2056872",
   "metadata": {},
   "outputs": [],
   "source": []
  },
  {
   "cell_type": "code",
   "execution_count": 12,
   "id": "0503cda1-288e-4c09-ab0c-eb116cf5dd02",
   "metadata": {},
   "outputs": [
    {
     "name": "stdin",
     "output_type": "stream",
     "text": [
      "Enter your name : abc\n"
     ]
    },
    {
     "name": "stdout",
     "output_type": "stream",
     "text": [
      "Error occured : The length of the name can not be less than 4 charcters\n",
      "You are student\n"
     ]
    }
   ],
   "source": [
    "try:\n",
    "    name = input(\"Enter your name :\")\n",
    "    length = len(name)\n",
    "    if length<=3:\n",
    "        raise Exception(\"The length of the name can not be less than 4 charcters\")\n",
    "    else:\n",
    "        print(\"Welcome you can fill your form\")\n",
    "except Exception as e:\n",
    "    print(\"Error occured :\", e)\n",
    "finally:\n",
    "    print(\"You are student\")"
   ]
  },
  {
   "cell_type": "code",
   "execution_count": 41,
   "id": "a32a73ce-41cc-4ee2-87de-48c4ca4ee51e",
   "metadata": {},
   "outputs": [
    {
     "name": "stdin",
     "output_type": "stream",
     "text": [
      "Enter your name : raja\n"
     ]
    },
    {
     "name": "stdout",
     "output_type": "stream",
     "text": [
      "welcome you can fill your form\n",
      "You are student\n"
     ]
    }
   ],
   "source": [
    "try:\n",
    "    name = input(\"Enter your name :\")\n",
    "    length = len(name)\n",
    "    if length<= 3:\n",
    "        raise Exception(\"The length of the name can not be less than 4 characters\")\n",
    "except Exception as e:\n",
    "    print(\"Error occured : \", e)\n",
    "else:\n",
    "    print(\"welcome you can fill your form\")\n",
    "finally:\n",
    "    print(\"You are student\")  "
   ]
  },
  {
   "cell_type": "code",
   "execution_count": null,
   "id": "7bcefc1a-7952-457f-9d52-2fddbaebe456",
   "metadata": {},
   "outputs": [],
   "source": []
  },
  {
   "cell_type": "code",
   "execution_count": 45,
   "id": "5416be7a-a7f1-4b8d-8ba3-a8ab2b8bb3ed",
   "metadata": {},
   "outputs": [
    {
     "name": "stdout",
     "output_type": "stream",
     "text": [
      " Volume in drive C has no label.\n",
      " Volume Serial Number is 325F-1FC0\n",
      "\n",
      " Directory of C:\\Users\\NIKHIL SHARMA\n",
      "\n",
      "16-12-2024  13:44    <DIR>          .\n",
      "23-07-2024  16:51    <DIR>          ..\n",
      "10-12-2024  18:04    <DIR>          .anaconda\n",
      "16-12-2024  12:32    <DIR>          .conda\n",
      "10-12-2024  18:04               146 .condarc\n",
      "10-12-2024  18:04    <DIR>          .continuum\n",
      "10-10-2024  11:46                57 .gitconfig\n",
      "16-12-2024  13:44    <DIR>          .ipynb_checkpoints\n",
      "10-12-2024  18:06    <DIR>          .ipython\n",
      "11-12-2024  07:55    <DIR>          .jupyter\n",
      "18-09-2024  11:12    <DIR>          .matplotlib\n",
      "02-09-2024  11:32    <DIR>          .ms-ad\n",
      "11-12-2024  08:31    <DIR>          .virtual_documents\n",
      "17-09-2024  18:13    <DIR>          .vscode\n",
      "16-12-2024  13:44            10,164 16_12_2024-.ipynb\n",
      "10-12-2024  18:05    <DIR>          anaconda3\n",
      "24-07-2024  05:01    <DIR>          AppData\n",
      "24-07-2024  05:02    <DIR>          Contacts\n",
      "11-12-2024  08:05    <DIR>          Desktop\n",
      "20-11-2024  17:57    <DIR>          Documents\n",
      "16-12-2024  12:41    <DIR>          Downloads\n",
      "11-12-2024  08:37    <DIR>          Favorites\n",
      "24-07-2024  05:02    <DIR>          Links\n",
      "13-11-2024  20:34    <DIR>          Music\n",
      "29-10-2024  19:12    <DIR>          OneDrive\n",
      "19-11-2024  17:12    <DIR>          Pictures\n",
      "24-07-2024  05:02    <DIR>          Saved Games\n",
      "24-07-2024  05:14    <DIR>          Searches\n",
      "11-12-2024  08:33               628 Untitled.ipynb\n",
      "11-12-2024  08:50             1,650 Untitled1.ipynb\n",
      "16-12-2024  12:50             1,486 Untitled2.ipynb\n",
      "16-12-2024  13:44               337 Untitled3.ipynb\n",
      "26-07-2024  08:04    <DIR>          Videos\n",
      "               7 File(s)         14,468 bytes\n",
      "              26 Dir(s)  136,150,196,224 bytes free\n"
     ]
    }
   ],
   "source": [
    "ls"
   ]
  },
  {
   "cell_type": "code",
   "execution_count": 9,
   "id": "e9cd88a6-4e34-445a-80ff-450fb5b0b473",
   "metadata": {},
   "outputs": [
    {
     "name": "stdout",
     "output_type": "stream",
     "text": [
      "this is an error [Errno 2] No such file or directory: 'computer.txt'\n"
     ]
    }
   ],
   "source": [
    "try:\n",
    "    with open(\"computer.txt\" , \"r\") as f:\n",
    "       data = f.read()\n",
    "       print(data)\n",
    "except Exception as e:\n",
    "    print(\"this is an error\" , e)"
   ]
  },
  {
   "cell_type": "code",
   "execution_count": 23,
   "id": "3e484f34-f325-4a43-9483-c97f74094c17",
   "metadata": {},
   "outputs": [
    {
     "ename": "SyntaxError",
     "evalue": "incomplete input (1380903471.py, line 4)",
     "output_type": "error",
     "traceback": [
      "\u001b[1;36m  Cell \u001b[1;32mIn[23], line 4\u001b[1;36m\u001b[0m\n\u001b[1;33m    print(data)\u001b[0m\n\u001b[1;37m               ^\u001b[0m\n\u001b[1;31mSyntaxError\u001b[0m\u001b[1;31m:\u001b[0m incomplete input\n"
     ]
    }
   ],
   "source": [
    "try:\n",
    "    with open(\"iris27.csv\" , mode = \"r\") as file:\n",
    "      data = file.read()\n",
    "      print(data)"
   ]
  },
  {
   "cell_type": "code",
   "execution_count": null,
   "id": "726607aa-7af2-484e-ba52-9d25be996b94",
   "metadata": {},
   "outputs": [],
   "source": []
  }
 ],
 "metadata": {
  "kernelspec": {
   "display_name": "Python [conda env:base] *",
   "language": "python",
   "name": "conda-base-py"
  },
  "language_info": {
   "codemirror_mode": {
    "name": "ipython",
    "version": 3
   },
   "file_extension": ".py",
   "mimetype": "text/x-python",
   "name": "python",
   "nbconvert_exporter": "python",
   "pygments_lexer": "ipython3",
   "version": "3.12.7"
  }
 },
 "nbformat": 4,
 "nbformat_minor": 5
}
